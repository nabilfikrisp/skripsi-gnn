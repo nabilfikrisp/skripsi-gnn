{
 "cells": [
  {
   "cell_type": "code",
   "execution_count": 6,
   "metadata": {},
   "outputs": [],
   "source": [
    "from collections import Counter\n",
    "from pathlib import Path\n",
    "from torchvision import datasets\n",
    "\n",
    "\n",
    "def count_labels_in_imagefolder(dataset_path):\n",
    "    \"\"\"Counts the number of images for each label in a PyTorch ImageFolder dataset.\n",
    "\n",
    "    Args:\n",
    "        dataset_path (str): Path to the ImageFolder dataset.\n",
    "\n",
    "    Returns:\n",
    "        dict: Dictionary with label names as keys and counts as values.\n",
    "    \"\"\"\n",
    "    # Load the dataset\n",
    "    dataset = datasets.ImageFolder(root=dataset_path)\n",
    "\n",
    "    # Get the list of labels\n",
    "    labels = [label for _, label in dataset.samples]\n",
    "\n",
    "    # Count the occurrences of each label\n",
    "    label_counts = Counter(labels)\n",
    "\n",
    "    # Map the label indices to label names\n",
    "    idx_to_class = {v: k for k, v in dataset.class_to_idx.items()}\n",
    "    label_counts_named = {\n",
    "        idx_to_class[idx]: count for idx, count in label_counts.items()\n",
    "    }\n",
    "\n",
    "    return label_counts_named\n"
   ]
  },
  {
   "cell_type": "code",
   "execution_count": 7,
   "metadata": {},
   "outputs": [
    {
     "name": "stdout",
     "output_type": "stream",
     "text": [
      "D1              Train      Test      \n",
      "-------------------------------\n",
      "tree            159        69        \n",
      "downdog         223        97        \n",
      "plank           266        115       \n",
      "goddess         180        80        \n",
      "warrior2        252        109       \n"
     ]
    }
   ],
   "source": [
    "d1_train_path = Path(\"./data/eksperimen-1/jpg-train/\")\n",
    "d1_train_count = count_labels_in_imagefolder(d1_train_path)\n",
    "\n",
    "d1_test_path = Path(\"./data/eksperimen-1/jpg-test/\")\n",
    "d1_test_count = count_labels_in_imagefolder(d1_test_path)\n",
    "\n",
    "# Get the unique set of labels from both datasets\n",
    "all_labels = set(d1_train_count.keys()).union(set(d1_test_count.keys()))\n",
    "\n",
    "# Display the counts side by side\n",
    "print(f\"{'D1':<15} {'Train':<10} {'Test':<10}\")\n",
    "print(\"-\" * 31)\n",
    "for label in all_labels:\n",
    "    train_count = d1_train_count.get(label, 0)\n",
    "    test_count = d1_test_count.get(label, 0)\n",
    "    print(f\"{label:<15} {train_count:<10} {test_count:<10}\")\n"
   ]
  },
  {
   "cell_type": "code",
   "execution_count": 8,
   "metadata": {},
   "outputs": [
    {
     "name": "stdout",
     "output_type": "stream",
     "text": [
      "D2              Train      Test      \n",
      "-------------------------------\n",
      "tree            156        69        \n",
      "downdog         214        96        \n",
      "plank           257        115       \n",
      "goddess         168        78        \n",
      "warrior2        241        106       \n"
     ]
    }
   ],
   "source": [
    "d2_train_path = Path(\"./data/eksperimen-2/train-fix/\")\n",
    "d2_train_count = count_labels_in_imagefolder(d2_train_path)\n",
    "\n",
    "d2_test_path = Path(\"./data/eksperimen-2/test-fix/\")\n",
    "d2_test_count = count_labels_in_imagefolder(d2_test_path)\n",
    "\n",
    "# Get the unique set of labels from both datasets\n",
    "all_labels = set(d2_train_count.keys()).union(set(d2_test_count.keys()))\n",
    "\n",
    "# Display the counts side by side\n",
    "print(f\"{'D2':<15} {'Train':<10} {'Test':<10}\")\n",
    "print(\"-\" * 31)\n",
    "for label in all_labels:\n",
    "    train_count = d2_train_count.get(label, 0)\n",
    "    test_count = d2_test_count.get(label, 0)\n",
    "    print(f\"{label:<15} {train_count:<10} {test_count:<10}\")\n"
   ]
  },
  {
   "cell_type": "code",
   "execution_count": 9,
   "metadata": {},
   "outputs": [
    {
     "name": "stdout",
     "output_type": "stream",
     "text": [
      "D3              Train      Test      \n",
      "-------------------------------\n",
      "tree            256        100       \n",
      "downdog         256        100       \n",
      "plank           256        100       \n",
      "goddess         256        100       \n",
      "warrior2        256        100       \n"
     ]
    }
   ],
   "source": [
    "d3_train_path = Path(\"./data/eksperimen-3/train/\")\n",
    "d3_train_count = count_labels_in_imagefolder(d3_train_path)\n",
    "\n",
    "d3_test_path = Path(\"./data/eksperimen-3/test/\")\n",
    "d3_test_count = count_labels_in_imagefolder(d3_test_path)\n",
    "\n",
    "# Get the unique set of labels from both datasets\n",
    "all_labels = set(d3_train_count.keys()).union(set(d3_test_count.keys()))\n",
    "\n",
    "# Display the counts side by side\n",
    "print(f\"{'D3':<15} {'Train':<10} {'Test':<10}\")\n",
    "print(\"-\" * 31)\n",
    "for label in all_labels:\n",
    "    train_count = d3_train_count.get(label, 0)\n",
    "    test_count = d3_test_count.get(label, 0)\n",
    "    print(f\"{label:<15} {train_count:<10} {test_count:<10}\")\n"
   ]
  },
  {
   "cell_type": "code",
   "execution_count": 10,
   "metadata": {},
   "outputs": [
    {
     "name": "stdout",
     "output_type": "stream",
     "text": [
      "Dataset    Split      downdog    goddess    plank      tree       warrior2  \n",
      "---------------------------------------------------------------------------\n",
      "D1         Train      223        180        266        159        252       \n",
      "D2         Train      214        168        257        156        241       \n",
      "D3         Train      256        256        256        256        256       \n",
      "D1         Test       97         80         115        69         109       \n",
      "D2         Test       96         78         115        69         106       \n",
      "D3         Test       100        100        100        100        100       \n"
     ]
    }
   ],
   "source": [
    "def count_labels_in_imagefolder(dataset_path):\n",
    "    \"\"\"Counts the number of images for each label in a PyTorch ImageFolder dataset.\n",
    "\n",
    "    Args:\n",
    "        dataset_path (str): Path to the ImageFolder dataset.\n",
    "\n",
    "    Returns:\n",
    "        dict: Dictionary with label names as keys and counts as values.\n",
    "    \"\"\"\n",
    "    # Load the dataset\n",
    "    dataset = datasets.ImageFolder(root=dataset_path)\n",
    "\n",
    "    # Get the list of labels\n",
    "    labels = [label for _, label in dataset.samples]\n",
    "\n",
    "    # Count the occurrences of each label\n",
    "    label_counts = Counter(labels)\n",
    "\n",
    "    # Map the label indices to label names\n",
    "    idx_to_class = {v: k for k, v in dataset.class_to_idx.items()}\n",
    "    label_counts_named = {\n",
    "        idx_to_class[idx]: count for idx, count in label_counts.items()\n",
    "    }\n",
    "\n",
    "    return label_counts_named\n",
    "\n",
    "\n",
    "# Example usage\n",
    "d1_train_path = Path(\"./data/eksperimen-1/jpg-train/\")\n",
    "d1_train_count = count_labels_in_imagefolder(d1_train_path)\n",
    "\n",
    "d1_test_path = Path(\"./data/eksperimen-1/jpg-test/\")\n",
    "d1_test_count = count_labels_in_imagefolder(d1_test_path)\n",
    "\n",
    "d2_train_path = Path(\"./data/eksperimen-2/train-fix/\")\n",
    "d2_train_count = count_labels_in_imagefolder(d2_train_path)\n",
    "\n",
    "d2_test_path = Path(\"./data/eksperimen-2/test-fix/\")\n",
    "d2_test_count = count_labels_in_imagefolder(d2_test_path)\n",
    "\n",
    "d3_train_path = Path(\"./data/eksperimen-3/train/\")\n",
    "d3_train_count = count_labels_in_imagefolder(d3_train_path)\n",
    "\n",
    "d3_test_path = Path(\"./data/eksperimen-3/test/\")\n",
    "d3_test_count = count_labels_in_imagefolder(d3_test_path)\n",
    "\n",
    "# Get the unique set of labels from all datasets\n",
    "all_labels = sorted(\n",
    "    set(d1_train_count.keys())\n",
    "    .union(set(d1_test_count.keys()))\n",
    "    .union(set(d2_train_count.keys()))\n",
    "    .union(set(d2_test_count.keys()))\n",
    "    .union(set(d3_train_count.keys()))\n",
    "    .union(set(d3_test_count.keys()))\n",
    ")\n",
    "\n",
    "# Display the counts side by side\n",
    "header = [\"Dataset\", \"Split\"] + all_labels\n",
    "print(\n",
    "    f\"{'Dataset':<10} {'Split':<10} \"\n",
    "    + \" \".join([f\"{label:<10}\" for label in all_labels])\n",
    ")\n",
    "print(\"-\" * (20 + len(all_labels) * 11))\n",
    "\n",
    "\n",
    "def print_counts(dataset_name, split_name, counts):\n",
    "    print(\n",
    "        f\"{dataset_name:<10} {split_name:<10} \"\n",
    "        + \" \".join([f\"{counts.get(label, 0):<10}\" for label in all_labels])\n",
    "    )\n",
    "\n",
    "\n",
    "print_counts(\"D1\", \"Train\", d1_train_count)\n",
    "print_counts(\"D2\", \"Train\", d2_train_count)\n",
    "print_counts(\"D3\", \"Train\", d3_train_count)\n",
    "print_counts(\"D1\", \"Test\", d1_test_count)\n",
    "print_counts(\"D2\", \"Test\", d2_test_count)\n",
    "print_counts(\"D3\", \"Test\", d3_test_count)\n"
   ]
  }
 ],
 "metadata": {
  "kernelspec": {
   "display_name": ".venv-ml",
   "language": "python",
   "name": "python3"
  },
  "language_info": {
   "codemirror_mode": {
    "name": "ipython",
    "version": 3
   },
   "file_extension": ".py",
   "mimetype": "text/x-python",
   "name": "python",
   "nbconvert_exporter": "python",
   "pygments_lexer": "ipython3",
   "version": "3.10.11"
  }
 },
 "nbformat": 4,
 "nbformat_minor": 2
}
