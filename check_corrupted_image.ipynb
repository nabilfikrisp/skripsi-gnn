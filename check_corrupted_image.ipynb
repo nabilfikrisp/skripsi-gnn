{
 "cells": [
  {
   "cell_type": "code",
   "execution_count": 1,
   "metadata": {},
   "outputs": [
    {
     "name": "stderr",
     "output_type": "stream",
     "text": [
      " 67%|██████▋   | 726/1081 [00:14<00:06, 55.45it/s]"
     ]
    },
    {
     "name": "stdout",
     "output_type": "stream",
     "text": [
      "Cannot load : data\\eksperimen-1\\jpg-train\\tree\\00000114.jpg\n"
     ]
    },
    {
     "name": "stderr",
     "output_type": "stream",
     "text": [
      "100%|██████████| 1081/1081 [00:23<00:00, 46.22it/s]\n",
      "100%|██████████| 470/470 [00:11<00:00, 40.00it/s]\n"
     ]
    }
   ],
   "source": [
    "import tqdm\n",
    "from PIL import ImageFile\n",
    "from torchvision import datasets\n",
    "from pathlib import Path\n",
    "\n",
    "train_dir = Path(\"./data/eksperimen-1/jpg-train/\")\n",
    "test_dir = Path(\"./data/eksperimen-1/jpg-test/\")\n",
    "\n",
    "\n",
    "train_dataset = datasets.ImageFolder(str(train_dir))\n",
    "test_dataset = datasets.ImageFolder(str(test_dir))\n",
    "\n",
    "\n",
    "for DUT in [train_dataset, test_dataset]:\n",
    "    for fn, label in tqdm.tqdm(DUT.imgs):\n",
    "        try:\n",
    "            im = ImageFile.Image.open(fn)\n",
    "            im2 = im.convert(\"RGB\")\n",
    "        except OSError:\n",
    "            print(\"Cannot load : {}\".format(fn))"
   ]
  }
 ],
 "metadata": {
  "kernelspec": {
   "display_name": ".venv-ml",
   "language": "python",
   "name": "python3"
  },
  "language_info": {
   "codemirror_mode": {
    "name": "ipython",
    "version": 3
   },
   "file_extension": ".py",
   "mimetype": "text/x-python",
   "name": "python",
   "nbconvert_exporter": "python",
   "pygments_lexer": "ipython3",
   "version": "3.10.11"
  }
 },
 "nbformat": 4,
 "nbformat_minor": 2
}
